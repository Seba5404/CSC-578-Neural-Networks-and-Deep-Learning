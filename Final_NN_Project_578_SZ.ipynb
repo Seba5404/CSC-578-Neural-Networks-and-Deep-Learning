{
 "cells": [
  {
   "cell_type": "code",
   "execution_count": 1,
   "metadata": {},
   "outputs": [
    {
     "name": "stdout",
     "output_type": "stream",
     "text": [
      "Collecting keras\n",
      "\u001b[?25l  Downloading https://files.pythonhosted.org/packages/5e/10/aa32dad071ce52b5502266b5c659451cfd6ffcbf14e6c8c4f16c0ff5aaab/Keras-2.2.4-py2.py3-none-any.whl (312kB)\n",
      "\u001b[K    100% |################################| 317kB 30.4MB/s \n",
      "\u001b[?25hRequirement already satisfied: pyyaml in /opt/anaconda3/lib/python3.6/site-packages (from keras) (3.12)\n",
      "Requirement already satisfied: scipy>=0.14 in /opt/anaconda3/lib/python3.6/site-packages (from keras) (1.0.0)\n",
      "Requirement already satisfied: numpy>=1.9.1 in /opt/anaconda3/lib/python3.6/site-packages (from keras) (1.14.5)\n",
      "Requirement already satisfied: six>=1.9.0 in /opt/DL/protobuf/lib/python3.6/site-packages/six-1.11.0-py3.6.egg (from keras) (1.11.0)\n",
      "Collecting keras-applications>=1.0.6 (from keras)\n",
      "\u001b[?25l  Downloading https://files.pythonhosted.org/packages/71/e3/19762fdfc62877ae9102edf6342d71b28fbfd9dea3d2f96a882ce099b03f/Keras_Applications-1.0.8-py3-none-any.whl (50kB)\n",
      "\u001b[K    100% |################################| 51kB 24.1MB/s \n",
      "\u001b[?25hCollecting keras-preprocessing>=1.0.5 (from keras)\n",
      "\u001b[?25l  Downloading https://files.pythonhosted.org/packages/28/6a/8c1f62c37212d9fc441a7e26736df51ce6f0e38455816445471f10da4f0a/Keras_Preprocessing-1.1.0-py2.py3-none-any.whl (41kB)\n",
      "\u001b[K    100% |################################| 51kB 23.9MB/s \n",
      "\u001b[?25hRequirement already satisfied: h5py in /opt/anaconda3/lib/python3.6/site-packages (from keras) (2.7.1)\n",
      "Installing collected packages: keras-applications, keras-preprocessing, keras\n",
      "Successfully installed keras-2.2.4 keras-applications-1.0.8 keras-preprocessing-1.1.0\n",
      "\u001b[33mYou are using pip version 18.0, however version 19.1.1 is available.\n",
      "You should consider upgrading via the 'pip install --upgrade pip' command.\u001b[0m\n"
     ]
    }
   ],
   "source": [
    "!pip install keras #install keras for GPU IBM AI lab \n",
    "\n",
    "#Sebastian Zdarowski CSC 578 NN \n",
    "# Video Link: https://drive.google.com/open?id=1nqZUQWcjFSpQ4gCvLOQS5tPp_T0bgpMm"
   ]
  },
  {
   "cell_type": "markdown",
   "metadata": {},
   "source": [
    "Install Keras for IBM Labs "
   ]
  },
  {
   "cell_type": "code",
   "execution_count": 2,
   "metadata": {},
   "outputs": [
    {
     "name": "stderr",
     "output_type": "stream",
     "text": [
      "/opt/anaconda3/lib/python3.6/site-packages/h5py/__init__.py:36: FutureWarning: Conversion of the second argument of issubdtype from `float` to `np.floating` is deprecated. In future, it will be treated as `np.float64 == np.dtype(float).type`.\n",
      "  from ._conv import register_converters as _register_converters\n",
      "Using TensorFlow backend.\n"
     ]
    },
    {
     "name": "stdout",
     "output_type": "stream",
     "text": [
      "2.2.4\n"
     ]
    }
   ],
   "source": [
    "import keras; print(keras.__version__) "
   ]
  },
  {
   "cell_type": "markdown",
   "metadata": {},
   "source": [
    "Objective:The task of the competition is to predict the temperature at the next hour given the weather conditions and temperature for prior hours. \n",
    "\n",
    "This is a multivariate timeseries forecasting problem, and we use a neural network approach to tackle the problem as our ML method. \n",
    "\n",
    "We will be using the following tools: \n",
    "-Pandas\n",
    "-Numpy\n",
    "-Keras \n",
    "-Mapplotlib to help us with EDA analysis\n",
    "-Sklearn for pre processing \n",
    "- An LSTM model to predict the temps \n",
    "\n",
    "\n",
    "Contents are as followed: \n",
    "\n",
    "- Load Data/setup of notebook\n",
    "- Exploratory Analysis \n",
    "- Pre processing \n",
    "- Model Building \n",
    "- Prediction outputs "
   ]
  },
  {
   "cell_type": "markdown",
   "metadata": {},
   "source": [
    "Load data/Setup of Notebook:"
   ]
  },
  {
   "cell_type": "code",
   "execution_count": 3,
   "metadata": {},
   "outputs": [],
   "source": [
    "#import tools \n",
    "import pandas as pd\n",
    "import numpy as np\n",
    "from keras.layers.core import Dense, Activation, Dropout\n",
    "from keras.layers.recurrent import LSTM\n",
    "from keras.models import Sequential\n",
    "import time\n",
    "from matplotlib import pyplot\n",
    "from sklearn.preprocessing import MinMaxScaler\n",
    "from sklearn.preprocessing import StandardScaler #for Zscore \n",
    "\n",
    "# settings\n",
    "import warnings\n",
    "warnings.filterwarnings(\"ignore\")"
   ]
  },
  {
   "cell_type": "markdown",
   "metadata": {},
   "source": [
    "Import the datasets for testing and training \n",
    "\n",
    "In this dataset, 14 different quantities (including air temperature, atmospheric pressure and humidity) The original data goes back to 2003, but we are using a subset for this competition, from 2009 to 2016 (both inclusive). The temperature measurements are per hour.\n"
   ]
  },
  {
   "cell_type": "code",
   "execution_count": 4,
   "metadata": {},
   "outputs": [],
   "source": [
    "#lets load in our data \n",
    "climate_train = pd.read_csv(\"climate_hour_train.csv\", header=0)\n",
    "climate_test = pd.read_csv(\"climate_Xtest2.csv\",header=None)\n",
    "#climate_test was giving issues with column order, switched deg c in test file with column mbar so that dec is first in row of 14\n",
    "#Was messing with the predictions, I was prediciting mbar before column order switch\n"
   ]
  },
  {
   "cell_type": "markdown",
   "metadata": {},
   "source": [
    "Exploreatory data analysis:\n",
    "    "
   ]
  },
  {
   "cell_type": "code",
   "execution_count": 5,
   "metadata": {},
   "outputs": [
    {
     "data": {
      "text/plain": [
       "Date Time           object\n",
       "p (mbar)           float64\n",
       "T (degC)           float64\n",
       "Tpot (K)           float64\n",
       "Tdew (degC)        float64\n",
       "rh (%)             float64\n",
       "VPmax (mbar)       float64\n",
       "VPact (mbar)       float64\n",
       "VPdef (mbar)       float64\n",
       "sh (g/kg)          float64\n",
       "H2OC (mmol/mol)    float64\n",
       "rho (g/m**3)       float64\n",
       "wv (m/s)           float64\n",
       "max. wv (m/s)      float64\n",
       "wd (deg)           float64\n",
       "dtype: object"
      ]
     },
     "execution_count": 5,
     "metadata": {},
     "output_type": "execute_result"
    }
   ],
   "source": [
    "climate_train.dtypes\n",
    "#check what data types we are working with"
   ]
  },
  {
   "cell_type": "code",
   "execution_count": 6,
   "metadata": {},
   "outputs": [
    {
     "data": {
      "text/html": [
       "<div>\n",
       "<style scoped>\n",
       "    .dataframe tbody tr th:only-of-type {\n",
       "        vertical-align: middle;\n",
       "    }\n",
       "\n",
       "    .dataframe tbody tr th {\n",
       "        vertical-align: top;\n",
       "    }\n",
       "\n",
       "    .dataframe thead th {\n",
       "        text-align: right;\n",
       "    }\n",
       "</style>\n",
       "<table border=\"1\" class=\"dataframe\">\n",
       "  <thead>\n",
       "    <tr style=\"text-align: right;\">\n",
       "      <th></th>\n",
       "      <th>Date Time</th>\n",
       "      <th>p (mbar)</th>\n",
       "      <th>T (degC)</th>\n",
       "      <th>Tpot (K)</th>\n",
       "      <th>Tdew (degC)</th>\n",
       "      <th>rh (%)</th>\n",
       "      <th>VPmax (mbar)</th>\n",
       "      <th>VPact (mbar)</th>\n",
       "      <th>VPdef (mbar)</th>\n",
       "      <th>sh (g/kg)</th>\n",
       "      <th>H2OC (mmol/mol)</th>\n",
       "      <th>rho (g/m**3)</th>\n",
       "      <th>wv (m/s)</th>\n",
       "      <th>max. wv (m/s)</th>\n",
       "      <th>wd (deg)</th>\n",
       "    </tr>\n",
       "  </thead>\n",
       "  <tbody>\n",
       "    <tr>\n",
       "      <th>0</th>\n",
       "      <td>01.01.2009 01:00:00</td>\n",
       "      <td>996.50</td>\n",
       "      <td>-8.05</td>\n",
       "      <td>265.38</td>\n",
       "      <td>-8.78</td>\n",
       "      <td>94.4</td>\n",
       "      <td>3.33</td>\n",
       "      <td>3.14</td>\n",
       "      <td>0.19</td>\n",
       "      <td>1.96</td>\n",
       "      <td>3.15</td>\n",
       "      <td>1307.86</td>\n",
       "      <td>0.21</td>\n",
       "      <td>0.63</td>\n",
       "      <td>192.7</td>\n",
       "    </tr>\n",
       "    <tr>\n",
       "      <th>1</th>\n",
       "      <td>01.01.2009 02:00:00</td>\n",
       "      <td>996.62</td>\n",
       "      <td>-8.88</td>\n",
       "      <td>264.54</td>\n",
       "      <td>-9.77</td>\n",
       "      <td>93.2</td>\n",
       "      <td>3.12</td>\n",
       "      <td>2.90</td>\n",
       "      <td>0.21</td>\n",
       "      <td>1.81</td>\n",
       "      <td>2.91</td>\n",
       "      <td>1312.25</td>\n",
       "      <td>0.25</td>\n",
       "      <td>0.63</td>\n",
       "      <td>190.3</td>\n",
       "    </tr>\n",
       "    <tr>\n",
       "      <th>2</th>\n",
       "      <td>01.01.2009 03:00:00</td>\n",
       "      <td>996.84</td>\n",
       "      <td>-8.81</td>\n",
       "      <td>264.59</td>\n",
       "      <td>-9.66</td>\n",
       "      <td>93.5</td>\n",
       "      <td>3.13</td>\n",
       "      <td>2.93</td>\n",
       "      <td>0.20</td>\n",
       "      <td>1.83</td>\n",
       "      <td>2.94</td>\n",
       "      <td>1312.18</td>\n",
       "      <td>0.18</td>\n",
       "      <td>0.63</td>\n",
       "      <td>167.2</td>\n",
       "    </tr>\n",
       "    <tr>\n",
       "      <th>3</th>\n",
       "      <td>01.01.2009 04:00:00</td>\n",
       "      <td>996.99</td>\n",
       "      <td>-9.05</td>\n",
       "      <td>264.34</td>\n",
       "      <td>-10.02</td>\n",
       "      <td>92.6</td>\n",
       "      <td>3.07</td>\n",
       "      <td>2.85</td>\n",
       "      <td>0.23</td>\n",
       "      <td>1.78</td>\n",
       "      <td>2.85</td>\n",
       "      <td>1313.61</td>\n",
       "      <td>0.10</td>\n",
       "      <td>0.38</td>\n",
       "      <td>240.0</td>\n",
       "    </tr>\n",
       "    <tr>\n",
       "      <th>4</th>\n",
       "      <td>01.01.2009 05:00:00</td>\n",
       "      <td>997.46</td>\n",
       "      <td>-9.63</td>\n",
       "      <td>263.72</td>\n",
       "      <td>-10.65</td>\n",
       "      <td>92.2</td>\n",
       "      <td>2.94</td>\n",
       "      <td>2.71</td>\n",
       "      <td>0.23</td>\n",
       "      <td>1.69</td>\n",
       "      <td>2.71</td>\n",
       "      <td>1317.19</td>\n",
       "      <td>0.40</td>\n",
       "      <td>0.88</td>\n",
       "      <td>157.0</td>\n",
       "    </tr>\n",
       "  </tbody>\n",
       "</table>\n",
       "</div>"
      ],
      "text/plain": [
       "             Date Time  p (mbar)  T (degC)  Tpot (K)  Tdew (degC)  rh (%)  \\\n",
       "0  01.01.2009 01:00:00    996.50     -8.05    265.38        -8.78    94.4   \n",
       "1  01.01.2009 02:00:00    996.62     -8.88    264.54        -9.77    93.2   \n",
       "2  01.01.2009 03:00:00    996.84     -8.81    264.59        -9.66    93.5   \n",
       "3  01.01.2009 04:00:00    996.99     -9.05    264.34       -10.02    92.6   \n",
       "4  01.01.2009 05:00:00    997.46     -9.63    263.72       -10.65    92.2   \n",
       "\n",
       "   VPmax (mbar)  VPact (mbar)  VPdef (mbar)  sh (g/kg)  H2OC (mmol/mol)  \\\n",
       "0          3.33          3.14          0.19       1.96             3.15   \n",
       "1          3.12          2.90          0.21       1.81             2.91   \n",
       "2          3.13          2.93          0.20       1.83             2.94   \n",
       "3          3.07          2.85          0.23       1.78             2.85   \n",
       "4          2.94          2.71          0.23       1.69             2.71   \n",
       "\n",
       "   rho (g/m**3)  wv (m/s)  max. wv (m/s)  wd (deg)  \n",
       "0       1307.86      0.21           0.63     192.7  \n",
       "1       1312.25      0.25           0.63     190.3  \n",
       "2       1312.18      0.18           0.63     167.2  \n",
       "3       1313.61      0.10           0.38     240.0  \n",
       "4       1317.19      0.40           0.88     157.0  "
      ]
     },
     "execution_count": 6,
     "metadata": {},
     "output_type": "execute_result"
    }
   ],
   "source": [
    "climate_train.head() #show first 5 rows of training dataset 15 columns 1st column being date time \n",
    "#climate_test.head()"
   ]
  },
  {
   "cell_type": "code",
   "execution_count": 7,
   "metadata": {},
   "outputs": [
    {
     "data": {
      "text/html": [
       "<div>\n",
       "<style scoped>\n",
       "    .dataframe tbody tr th:only-of-type {\n",
       "        vertical-align: middle;\n",
       "    }\n",
       "\n",
       "    .dataframe tbody tr th {\n",
       "        vertical-align: top;\n",
       "    }\n",
       "\n",
       "    .dataframe thead th {\n",
       "        text-align: right;\n",
       "    }\n",
       "</style>\n",
       "<table border=\"1\" class=\"dataframe\">\n",
       "  <thead>\n",
       "    <tr style=\"text-align: right;\">\n",
       "      <th></th>\n",
       "      <th>Date Time</th>\n",
       "      <th>p (mbar)</th>\n",
       "      <th>T (degC)</th>\n",
       "      <th>Tpot (K)</th>\n",
       "      <th>Tdew (degC)</th>\n",
       "      <th>rh (%)</th>\n",
       "      <th>VPmax (mbar)</th>\n",
       "      <th>VPact (mbar)</th>\n",
       "      <th>VPdef (mbar)</th>\n",
       "      <th>sh (g/kg)</th>\n",
       "      <th>H2OC (mmol/mol)</th>\n",
       "      <th>rho (g/m**3)</th>\n",
       "      <th>wv (m/s)</th>\n",
       "      <th>max. wv (m/s)</th>\n",
       "      <th>wd (deg)</th>\n",
       "    </tr>\n",
       "  </thead>\n",
       "  <tbody>\n",
       "    <tr>\n",
       "      <th>count</th>\n",
       "      <td>52566</td>\n",
       "      <td>52566.000000</td>\n",
       "      <td>52566.000000</td>\n",
       "      <td>52566.000000</td>\n",
       "      <td>52566.000000</td>\n",
       "      <td>52566.000000</td>\n",
       "      <td>52566.000000</td>\n",
       "      <td>52566.000000</td>\n",
       "      <td>52566.000000</td>\n",
       "      <td>52566.000000</td>\n",
       "      <td>52566.000000</td>\n",
       "      <td>52566.000000</td>\n",
       "      <td>52566.000000</td>\n",
       "      <td>52566.000000</td>\n",
       "      <td>52566.000000</td>\n",
       "    </tr>\n",
       "    <tr>\n",
       "      <th>unique</th>\n",
       "      <td>52566</td>\n",
       "      <td>NaN</td>\n",
       "      <td>NaN</td>\n",
       "      <td>NaN</td>\n",
       "      <td>NaN</td>\n",
       "      <td>NaN</td>\n",
       "      <td>NaN</td>\n",
       "      <td>NaN</td>\n",
       "      <td>NaN</td>\n",
       "      <td>NaN</td>\n",
       "      <td>NaN</td>\n",
       "      <td>NaN</td>\n",
       "      <td>NaN</td>\n",
       "      <td>NaN</td>\n",
       "      <td>NaN</td>\n",
       "    </tr>\n",
       "    <tr>\n",
       "      <th>top</th>\n",
       "      <td>12.12.2011 15:00:00</td>\n",
       "      <td>NaN</td>\n",
       "      <td>NaN</td>\n",
       "      <td>NaN</td>\n",
       "      <td>NaN</td>\n",
       "      <td>NaN</td>\n",
       "      <td>NaN</td>\n",
       "      <td>NaN</td>\n",
       "      <td>NaN</td>\n",
       "      <td>NaN</td>\n",
       "      <td>NaN</td>\n",
       "      <td>NaN</td>\n",
       "      <td>NaN</td>\n",
       "      <td>NaN</td>\n",
       "      <td>NaN</td>\n",
       "    </tr>\n",
       "    <tr>\n",
       "      <th>freq</th>\n",
       "      <td>1</td>\n",
       "      <td>NaN</td>\n",
       "      <td>NaN</td>\n",
       "      <td>NaN</td>\n",
       "      <td>NaN</td>\n",
       "      <td>NaN</td>\n",
       "      <td>NaN</td>\n",
       "      <td>NaN</td>\n",
       "      <td>NaN</td>\n",
       "      <td>NaN</td>\n",
       "      <td>NaN</td>\n",
       "      <td>NaN</td>\n",
       "      <td>NaN</td>\n",
       "      <td>NaN</td>\n",
       "      <td>NaN</td>\n",
       "    </tr>\n",
       "    <tr>\n",
       "      <th>mean</th>\n",
       "      <td>NaN</td>\n",
       "      <td>988.723002</td>\n",
       "      <td>9.172795</td>\n",
       "      <td>283.254265</td>\n",
       "      <td>4.779049</td>\n",
       "      <td>76.444300</td>\n",
       "      <td>13.357483</td>\n",
       "      <td>9.458133</td>\n",
       "      <td>3.899249</td>\n",
       "      <td>5.977212</td>\n",
       "      <td>9.568031</td>\n",
       "      <td>1216.718989</td>\n",
       "      <td>2.142170</td>\n",
       "      <td>3.539017</td>\n",
       "      <td>173.689628</td>\n",
       "    </tr>\n",
       "    <tr>\n",
       "      <th>std</th>\n",
       "      <td>NaN</td>\n",
       "      <td>8.190684</td>\n",
       "      <td>8.533081</td>\n",
       "      <td>8.605048</td>\n",
       "      <td>6.922701</td>\n",
       "      <td>16.430164</td>\n",
       "      <td>7.572008</td>\n",
       "      <td>4.201679</td>\n",
       "      <td>4.723265</td>\n",
       "      <td>2.666892</td>\n",
       "      <td>4.253017</td>\n",
       "      <td>40.439912</td>\n",
       "      <td>1.530832</td>\n",
       "      <td>2.313246</td>\n",
       "      <td>87.251111</td>\n",
       "    </tr>\n",
       "    <tr>\n",
       "      <th>min</th>\n",
       "      <td>NaN</td>\n",
       "      <td>918.500000</td>\n",
       "      <td>-22.760000</td>\n",
       "      <td>250.850000</td>\n",
       "      <td>-24.800000</td>\n",
       "      <td>13.060000</td>\n",
       "      <td>0.970000</td>\n",
       "      <td>0.810000</td>\n",
       "      <td>0.000000</td>\n",
       "      <td>0.510000</td>\n",
       "      <td>0.810000</td>\n",
       "      <td>1066.190000</td>\n",
       "      <td>0.000000</td>\n",
       "      <td>0.000000</td>\n",
       "      <td>0.000000</td>\n",
       "    </tr>\n",
       "    <tr>\n",
       "      <th>25%</th>\n",
       "      <td>NaN</td>\n",
       "      <td>983.750000</td>\n",
       "      <td>3.110000</td>\n",
       "      <td>277.242500</td>\n",
       "      <td>0.130000</td>\n",
       "      <td>65.810000</td>\n",
       "      <td>7.640000</td>\n",
       "      <td>6.170000</td>\n",
       "      <td>0.810000</td>\n",
       "      <td>3.890000</td>\n",
       "      <td>6.240000</td>\n",
       "      <td>1188.082500</td>\n",
       "      <td>1.010000</td>\n",
       "      <td>1.800000</td>\n",
       "      <td>120.800000</td>\n",
       "    </tr>\n",
       "    <tr>\n",
       "      <th>50%</th>\n",
       "      <td>NaN</td>\n",
       "      <td>989.140000</td>\n",
       "      <td>9.310000</td>\n",
       "      <td>283.430000</td>\n",
       "      <td>5.200000</td>\n",
       "      <td>79.700000</td>\n",
       "      <td>11.740000</td>\n",
       "      <td>8.850000</td>\n",
       "      <td>2.090000</td>\n",
       "      <td>5.595000</td>\n",
       "      <td>8.965000</td>\n",
       "      <td>1213.440000</td>\n",
       "      <td>1.790000</td>\n",
       "      <td>3.000000</td>\n",
       "      <td>197.100000</td>\n",
       "    </tr>\n",
       "    <tr>\n",
       "      <th>75%</th>\n",
       "      <td>NaN</td>\n",
       "      <td>994.070000</td>\n",
       "      <td>15.280000</td>\n",
       "      <td>289.370000</td>\n",
       "      <td>10.030000</td>\n",
       "      <td>89.800000</td>\n",
       "      <td>17.390000</td>\n",
       "      <td>12.320000</td>\n",
       "      <td>5.130000</td>\n",
       "      <td>7.780000</td>\n",
       "      <td>12.450000</td>\n",
       "      <td>1243.050000</td>\n",
       "      <td>2.880000</td>\n",
       "      <td>4.750000</td>\n",
       "      <td>233.800000</td>\n",
       "    </tr>\n",
       "    <tr>\n",
       "      <th>max</th>\n",
       "      <td>NaN</td>\n",
       "      <td>1012.740000</td>\n",
       "      <td>35.480000</td>\n",
       "      <td>309.690000</td>\n",
       "      <td>22.940000</td>\n",
       "      <td>100.000000</td>\n",
       "      <td>57.800000</td>\n",
       "      <td>28.040000</td>\n",
       "      <td>41.710000</td>\n",
       "      <td>17.940000</td>\n",
       "      <td>28.530000</td>\n",
       "      <td>1392.560000</td>\n",
       "      <td>12.580000</td>\n",
       "      <td>20.330000</td>\n",
       "      <td>360.000000</td>\n",
       "    </tr>\n",
       "  </tbody>\n",
       "</table>\n",
       "</div>"
      ],
      "text/plain": [
       "                  Date Time      p (mbar)      T (degC)      Tpot (K)  \\\n",
       "count                 52566  52566.000000  52566.000000  52566.000000   \n",
       "unique                52566           NaN           NaN           NaN   \n",
       "top     12.12.2011 15:00:00           NaN           NaN           NaN   \n",
       "freq                      1           NaN           NaN           NaN   \n",
       "mean                    NaN    988.723002      9.172795    283.254265   \n",
       "std                     NaN      8.190684      8.533081      8.605048   \n",
       "min                     NaN    918.500000    -22.760000    250.850000   \n",
       "25%                     NaN    983.750000      3.110000    277.242500   \n",
       "50%                     NaN    989.140000      9.310000    283.430000   \n",
       "75%                     NaN    994.070000     15.280000    289.370000   \n",
       "max                     NaN   1012.740000     35.480000    309.690000   \n",
       "\n",
       "         Tdew (degC)        rh (%)  VPmax (mbar)  VPact (mbar)  VPdef (mbar)  \\\n",
       "count   52566.000000  52566.000000  52566.000000  52566.000000  52566.000000   \n",
       "unique           NaN           NaN           NaN           NaN           NaN   \n",
       "top              NaN           NaN           NaN           NaN           NaN   \n",
       "freq             NaN           NaN           NaN           NaN           NaN   \n",
       "mean        4.779049     76.444300     13.357483      9.458133      3.899249   \n",
       "std         6.922701     16.430164      7.572008      4.201679      4.723265   \n",
       "min       -24.800000     13.060000      0.970000      0.810000      0.000000   \n",
       "25%         0.130000     65.810000      7.640000      6.170000      0.810000   \n",
       "50%         5.200000     79.700000     11.740000      8.850000      2.090000   \n",
       "75%        10.030000     89.800000     17.390000     12.320000      5.130000   \n",
       "max        22.940000    100.000000     57.800000     28.040000     41.710000   \n",
       "\n",
       "           sh (g/kg)  H2OC (mmol/mol)  rho (g/m**3)      wv (m/s)  \\\n",
       "count   52566.000000     52566.000000  52566.000000  52566.000000   \n",
       "unique           NaN              NaN           NaN           NaN   \n",
       "top              NaN              NaN           NaN           NaN   \n",
       "freq             NaN              NaN           NaN           NaN   \n",
       "mean        5.977212         9.568031   1216.718989      2.142170   \n",
       "std         2.666892         4.253017     40.439912      1.530832   \n",
       "min         0.510000         0.810000   1066.190000      0.000000   \n",
       "25%         3.890000         6.240000   1188.082500      1.010000   \n",
       "50%         5.595000         8.965000   1213.440000      1.790000   \n",
       "75%         7.780000        12.450000   1243.050000      2.880000   \n",
       "max        17.940000        28.530000   1392.560000     12.580000   \n",
       "\n",
       "        max. wv (m/s)      wd (deg)  \n",
       "count    52566.000000  52566.000000  \n",
       "unique            NaN           NaN  \n",
       "top               NaN           NaN  \n",
       "freq              NaN           NaN  \n",
       "mean         3.539017    173.689628  \n",
       "std          2.313246     87.251111  \n",
       "min          0.000000      0.000000  \n",
       "25%          1.800000    120.800000  \n",
       "50%          3.000000    197.100000  \n",
       "75%          4.750000    233.800000  \n",
       "max         20.330000    360.000000  "
      ]
     },
     "execution_count": 7,
     "metadata": {},
     "output_type": "execute_result"
    }
   ],
   "source": [
    "climate_train.describe(include='all') #show desriptive stats of each variable ignore date time before pre processing "
   ]
  },
  {
   "cell_type": "markdown",
   "metadata": {},
   "source": [
    "Lets look at the basic stats of the variables within the training set. \n",
    "\n",
    "1. For temp in Deg C we see that the average temp is 9.17 C \n",
    "\n",
    "Highest point for temp C was \n",
    "35.48 which occurs on July 19th 2012 \n",
    "\n",
    "Lowest point for temp C was \n",
    "-22.76 degrees which occurs on Jan 7th 2009 \n",
    "\n",
    " - Temp C Has a std deviation of 8.53 \n",
    "\n",
    " \n",
    "-Data set also provides us Kalvin temps, and other metrics associated with temp"
   ]
  },
  {
   "cell_type": "code",
   "execution_count": 8,
   "metadata": {},
   "outputs": [
    {
     "data": {
      "image/png": "[encoded data removed]",
      "text/plain": [
       "<Figure size 432x288 with 1 Axes>"
      ]
     },
     "metadata": {},
     "output_type": "display_data"
    }
   ],
   "source": [
    "#Lets look at the temp C over time \n",
    "\n",
    "#chart time series variables\n",
    "values = climate_train.values\n",
    "# specify columns to plot\n",
    "groups = [2] #capture all 14 features \n",
    "i = 1\n",
    "# plot each column\n",
    "pyplot.figure()\n",
    "for group in groups:\n",
    "    pyplot.subplot(len(groups), 1, i)\n",
    "    pyplot.plot(values[:, group])\n",
    "    pyplot.title(climate_train.columns[group], y=.5, loc='right')\n",
    "    i += 1\n",
    "pyplot.show() #output charts \n"
   ]
  },
  {
   "cell_type": "markdown",
   "metadata": {},
   "source": [
    "- We see seasonal patterns with Temp, Highs most likely occuring during summer months, and lows during Winter\n",
    "\n",
    "Clean the data: \n",
    "\n",
    "Remove the time stamp as its not needed for this project "
   ]
  },
  {
   "cell_type": "code",
   "execution_count": 9,
   "metadata": {},
   "outputs": [],
   "source": [
    "dateTime = climate_train[\"Date Time\"] #Identify date time \n",
    "dateTime.head() #check and see if loaded properly \n",
    "\n",
    "climate_train.drop('Date Time', axis=1, inplace=True)\n",
    "# Remove date time from train dataset \n"
   ]
  },
  {
   "cell_type": "code",
   "execution_count": 10,
   "metadata": {},
   "outputs": [
    {
     "data": {
      "text/html": [
       "<div>\n",
       "<style scoped>\n",
       "    .dataframe tbody tr th:only-of-type {\n",
       "        vertical-align: middle;\n",
       "    }\n",
       "\n",
       "    .dataframe tbody tr th {\n",
       "        vertical-align: top;\n",
       "    }\n",
       "\n",
       "    .dataframe thead th {\n",
       "        text-align: right;\n",
       "    }\n",
       "</style>\n",
       "<table border=\"1\" class=\"dataframe\">\n",
       "  <thead>\n",
       "    <tr style=\"text-align: right;\">\n",
       "      <th></th>\n",
       "      <th>T (degC)</th>\n",
       "      <th>p (mbar)</th>\n",
       "      <th>Tpot (K)</th>\n",
       "      <th>Tdew (degC)</th>\n",
       "      <th>rh (%)</th>\n",
       "      <th>VPmax (mbar)</th>\n",
       "      <th>VPact (mbar)</th>\n",
       "      <th>VPdef (mbar)</th>\n",
       "      <th>sh (g/kg)</th>\n",
       "      <th>H2OC (mmol/mol)</th>\n",
       "      <th>rho (g/m**3)</th>\n",
       "      <th>wv (m/s)</th>\n",
       "      <th>max. wv (m/s)</th>\n",
       "      <th>wd (deg)</th>\n",
       "    </tr>\n",
       "  </thead>\n",
       "  <tbody>\n",
       "    <tr>\n",
       "      <th>0</th>\n",
       "      <td>-8.05</td>\n",
       "      <td>996.50</td>\n",
       "      <td>265.38</td>\n",
       "      <td>-8.78</td>\n",
       "      <td>94.4</td>\n",
       "      <td>3.33</td>\n",
       "      <td>3.14</td>\n",
       "      <td>0.19</td>\n",
       "      <td>1.96</td>\n",
       "      <td>3.15</td>\n",
       "      <td>1307.86</td>\n",
       "      <td>0.21</td>\n",
       "      <td>0.63</td>\n",
       "      <td>192.7</td>\n",
       "    </tr>\n",
       "    <tr>\n",
       "      <th>1</th>\n",
       "      <td>-8.88</td>\n",
       "      <td>996.62</td>\n",
       "      <td>264.54</td>\n",
       "      <td>-9.77</td>\n",
       "      <td>93.2</td>\n",
       "      <td>3.12</td>\n",
       "      <td>2.90</td>\n",
       "      <td>0.21</td>\n",
       "      <td>1.81</td>\n",
       "      <td>2.91</td>\n",
       "      <td>1312.25</td>\n",
       "      <td>0.25</td>\n",
       "      <td>0.63</td>\n",
       "      <td>190.3</td>\n",
       "    </tr>\n",
       "    <tr>\n",
       "      <th>2</th>\n",
       "      <td>-8.81</td>\n",
       "      <td>996.84</td>\n",
       "      <td>264.59</td>\n",
       "      <td>-9.66</td>\n",
       "      <td>93.5</td>\n",
       "      <td>3.13</td>\n",
       "      <td>2.93</td>\n",
       "      <td>0.20</td>\n",
       "      <td>1.83</td>\n",
       "      <td>2.94</td>\n",
       "      <td>1312.18</td>\n",
       "      <td>0.18</td>\n",
       "      <td>0.63</td>\n",
       "      <td>167.2</td>\n",
       "    </tr>\n",
       "    <tr>\n",
       "      <th>3</th>\n",
       "      <td>-9.05</td>\n",
       "      <td>996.99</td>\n",
       "      <td>264.34</td>\n",
       "      <td>-10.02</td>\n",
       "      <td>92.6</td>\n",
       "      <td>3.07</td>\n",
       "      <td>2.85</td>\n",
       "      <td>0.23</td>\n",
       "      <td>1.78</td>\n",
       "      <td>2.85</td>\n",
       "      <td>1313.61</td>\n",
       "      <td>0.10</td>\n",
       "      <td>0.38</td>\n",
       "      <td>240.0</td>\n",
       "    </tr>\n",
       "    <tr>\n",
       "      <th>4</th>\n",
       "      <td>-9.63</td>\n",
       "      <td>997.46</td>\n",
       "      <td>263.72</td>\n",
       "      <td>-10.65</td>\n",
       "      <td>92.2</td>\n",
       "      <td>2.94</td>\n",
       "      <td>2.71</td>\n",
       "      <td>0.23</td>\n",
       "      <td>1.69</td>\n",
       "      <td>2.71</td>\n",
       "      <td>1317.19</td>\n",
       "      <td>0.40</td>\n",
       "      <td>0.88</td>\n",
       "      <td>157.0</td>\n",
       "    </tr>\n",
       "  </tbody>\n",
       "</table>\n",
       "</div>"
      ],
      "text/plain": [
       "   T (degC)  p (mbar)  Tpot (K)  Tdew (degC)  rh (%)  VPmax (mbar)  \\\n",
       "0     -8.05    996.50    265.38        -8.78    94.4          3.33   \n",
       "1     -8.88    996.62    264.54        -9.77    93.2          3.12   \n",
       "2     -8.81    996.84    264.59        -9.66    93.5          3.13   \n",
       "3     -9.05    996.99    264.34       -10.02    92.6          3.07   \n",
       "4     -9.63    997.46    263.72       -10.65    92.2          2.94   \n",
       "\n",
       "   VPact (mbar)  VPdef (mbar)  sh (g/kg)  H2OC (mmol/mol)  rho (g/m**3)  \\\n",
       "0          3.14          0.19       1.96             3.15       1307.86   \n",
       "1          2.90          0.21       1.81             2.91       1312.25   \n",
       "2          2.93          0.20       1.83             2.94       1312.18   \n",
       "3          2.85          0.23       1.78             2.85       1313.61   \n",
       "4          2.71          0.23       1.69             2.71       1317.19   \n",
       "\n",
       "   wv (m/s)  max. wv (m/s)  wd (deg)  \n",
       "0      0.21           0.63     192.7  \n",
       "1      0.25           0.63     190.3  \n",
       "2      0.18           0.63     167.2  \n",
       "3      0.10           0.38     240.0  \n",
       "4      0.40           0.88     157.0  "
      ]
     },
     "execution_count": 10,
     "metadata": {},
     "output_type": "execute_result"
    }
   ],
   "source": [
    "#place temp column first as we want to predict temp C \n",
    "cols = list(climate_train) #get list of columns\n",
    "cols.insert(0, cols.pop(cols.index('T (degC)')))\n",
    "climate_train = climate_train.ix[:, cols]\n",
    "climate_train.head()"
   ]
  },
  {
   "cell_type": "code",
   "execution_count": 380,
   "metadata": {},
   "outputs": [
    {
     "data": {
      "text/plain": [
       "(52566, 14)"
      ]
     },
     "execution_count": 380,
     "metadata": {},
     "output_type": "execute_result"
    }
   ],
   "source": [
    "#climate_train.head() #just checking to see if date time was removed \n",
    "#climate_train.shape"
   ]
  },
  {
   "cell_type": "markdown",
   "metadata": {},
   "source": [
    "Time series plots "
   ]
  },
  {
   "cell_type": "code",
   "execution_count": 11,
   "metadata": {},
   "outputs": [
    {
     "data": {
      "image/png": "[encoded data removed]",
      "text/plain": [
       "<Figure size 432x288 with 13 Axes>"
      ]
     },
     "metadata": {},
     "output_type": "display_data"
    }
   ],
   "source": [
    "#chart time series variables\n",
    "values = climate_train.values\n",
    "# specify columns to plot\n",
    "groups = [0, 1, 2, 3, 5, 6, 7,8,9,10,11,12,13] #capture all 14 features \n",
    "i = 1\n",
    "# plot each column\n",
    "pyplot.figure()\n",
    "for group in groups:\n",
    "    pyplot.subplot(len(groups), 1, i)\n",
    "    pyplot.plot(values[:, group])\n",
    "    pyplot.title(climate_train.columns[group], y=.5, loc='right')\n",
    "    i += 1\n",
    "pyplot.show() #output charts "
   ]
  },
  {
   "cell_type": "markdown",
   "metadata": {},
   "source": [
    "Variables within the timeset seem to be following a wave pattern.\n",
    "- This seems to be true across all the variables\n",
    "- Most likely indicating a seasonal pattern "
   ]
  },
  {
   "cell_type": "code",
   "execution_count": 302,
   "metadata": {},
   "outputs": [
    {
     "data": {
      "image/png": "[encoded data removed]",
      "text/plain": [
       "<Figure size 432x288 with 16 Axes>"
      ]
     },
     "metadata": {},
     "output_type": "display_data"
    }
   ],
   "source": [
    "climate_train.hist(bins=15, color='green', edgecolor='black', linewidth=1.0,\n",
    "           xlabelsize=8, ylabelsize=8, grid=False)    \n",
    "pyplot.tight_layout(rect=(0, 0, 5, 5))"
   ]
  },
  {
   "cell_type": "markdown",
   "metadata": {},
   "source": [
    "Seems we have slight normal distribution with the target variable Temp C \n",
    "Temp C and Temp In K share same distrubtion, which makes sense since they are just different calculations of temp\n",
    "\n",
    "From a few of these histograms we can infer that there is some right skewness in the following variables:\n",
    "-rh(%)\n",
    "-Vpdef\n",
    "-max vs wv\n",
    "-wv(m/s)\n",
    "-sh(g/kg)\n",
    "\n",
    "\n",
    "End of EDA \n",
    "\n",
    "Start Preprocessing:\n",
    "\n",
    "Clean data and convert to numpys"
   ]
  },
  {
   "cell_type": "code",
   "execution_count": 12,
   "metadata": {},
   "outputs": [
    {
     "data": {
      "text/plain": [
       "(52566, 14)"
      ]
     },
     "execution_count": 12,
     "metadata": {},
     "output_type": "execute_result"
    }
   ],
   "source": [
    "climate_train.head() #just checking to see if date time was removed \n",
    "climate_train.shape"
   ]
  },
  {
   "cell_type": "code",
   "execution_count": 13,
   "metadata": {},
   "outputs": [],
   "source": [
    "climate_train = climate_train.values #convert from pandas to numpy array"
   ]
  },
  {
   "cell_type": "code",
   "execution_count": 14,
   "metadata": {},
   "outputs": [
    {
     "data": {
      "text/plain": [
       "array([[-8.05000e+00,  9.96500e+02,  2.65380e+02, ...,  2.10000e-01,\n",
       "         6.30000e-01,  1.92700e+02],\n",
       "       [-8.88000e+00,  9.96620e+02,  2.64540e+02, ...,  2.50000e-01,\n",
       "         6.30000e-01,  1.90300e+02],\n",
       "       [-8.81000e+00,  9.96840e+02,  2.64590e+02, ...,  1.80000e-01,\n",
       "         6.30000e-01,  1.67200e+02],\n",
       "       ...,\n",
       "       [ 1.96000e+00,  1.00669e+03,  2.74600e+02, ...,  6.70000e-01,\n",
       "         1.56000e+00,  1.45300e+02],\n",
       "       [ 1.94000e+00,  1.00692e+03,  2.74560e+02, ...,  7.10000e-01,\n",
       "         1.80000e+00,  1.29600e+02],\n",
       "       [ 2.18000e+00,  1.00711e+03,  2.74780e+02, ...,  3.50000e-01,\n",
       "         8.60000e-01,  1.40800e+02]])"
      ]
     },
     "execution_count": 14,
     "metadata": {},
     "output_type": "execute_result"
    }
   ],
   "source": [
    "climate_train #show array "
   ]
  },
  {
   "cell_type": "code",
   "execution_count": 15,
   "metadata": {},
   "outputs": [],
   "source": [
    "from sklearn import preprocessing\n",
    "\n",
    "# integer encode direction\n",
    "encoder = preprocessing.LabelEncoder()\n",
    "climate_train[:,13] = encoder.fit_transform(climate_train[:,13])"
   ]
  },
  {
   "cell_type": "code",
   "execution_count": 16,
   "metadata": {},
   "outputs": [],
   "source": [
    "climate_train = climate_train.astype('float32') #convert to float 32 "
   ]
  },
  {
   "cell_type": "markdown",
   "metadata": {},
   "source": [
    "Normalize the training dataset with the orginal 14 data columns \n",
    "\n",
    "The standard score of a sample x is calculated as:\n",
    "\n",
    "z = (x - u) / s\n",
    "where u is the mean of the training samples and s is the standard deviation of the training samples\n",
    " Standard Scaler will be able to normalize our dataset with Z scores \n"
   ]
  },
  {
   "cell_type": "code",
   "execution_count": 17,
   "metadata": {},
   "outputs": [
    {
     "name": "stdout",
     "output_type": "stream",
     "text": [
      "[[-2.018375    0.9495071  -2.0772     ... -1.2621825  -1.2575595\n",
      "   0.36840418]\n",
      " [-2.1156447   0.9641574  -2.1748176  ... -1.2360526  -1.2575595\n",
      "   0.3554438 ]\n",
      " [-2.1074412   0.99102134 -2.1690083  ... -1.2817798  -1.2575595\n",
      "   0.23070014]\n",
      " ...\n",
      " [-0.8452824   2.1936157  -1.0057256  ... -0.9616893  -0.8555232\n",
      "   0.11243667]\n",
      " [-0.8476262   2.2216942  -1.0103751  ... -0.9355595  -0.7517719\n",
      "   0.02765419]\n",
      " [-0.8195001   2.2448916  -0.9848083  ... -1.1707281  -1.1581311\n",
      "   0.08813596]]\n"
     ]
    }
   ],
   "source": [
    "# normalize dataset training \n",
    "scaler = StandardScaler()\n",
    "trans_climate_train = scaler.fit_transform(climate_train)\n",
    "#trans_climate_train = pd.DataFrame(trans_climate_train)\n",
    "\n",
    "#print(scaler.mean_) # mean of each column\n",
    "print(scaler.transform(climate_train))\n",
    "\n",
    "#some notes from sklearn to figure out transformations \n",
    "#trans_climate_train = scaler.transform(climate_train)\n",
    "# inverse_transform(self, X[, copy])\tScale back the data to the original representation\n",
    "#scaled = scaler.fit_transform(series.values)\n",
    "\n",
    "#https://scikit-learn.org/stable/modules/generated/sklearn.preprocessing.StandardScaler.html"
   ]
  },
  {
   "cell_type": "code",
   "execution_count": 18,
   "metadata": {},
   "outputs": [
    {
     "data": {
      "text/plain": [
       "(52566, 14)"
      ]
     },
     "execution_count": 18,
     "metadata": {},
     "output_type": "execute_result"
    }
   ],
   "source": [
    "trans_climate_train.shape #check shape of transformed data \n",
    "#trans_climate_train.view() #view transfomred data "
   ]
  },
  {
   "cell_type": "markdown",
   "metadata": {},
   "source": [
    "Now we are going to normalize the test set as well"
   ]
  },
  {
   "cell_type": "code",
   "execution_count": 19,
   "metadata": {},
   "outputs": [
    {
     "name": "stdout",
     "output_type": "stream",
     "text": [
      "StandardScaler(copy=True, with_mean=True, with_std=True)\n",
      "[[-1.02505876e+00  1.90341581e+00 -1.17392800e+00 ...  2.07820107e-02\n",
      "   2.23714948e-02 -2.47042174e-01]\n",
      " [-1.00507785e+00  1.88843350e+00 -1.15301957e+00 ...  1.80368908e-02\n",
      "   2.07868659e-02 -2.45860357e-01]\n",
      " [-1.02755638e+00  1.93107546e+00 -1.17884764e+00 ...  5.15007824e-03\n",
      "   9.62843806e-03 -5.05859994e-01]\n",
      " ...\n",
      " [-1.61074917e+00  2.10394830e+00 -1.76551380e+00 ...  1.79493177e-03\n",
      "   1.70529399e-03  3.40320642e-01]\n",
      " [-1.65445741e+00  2.09127096e+00 -1.80733068e+00 ...  4.11052077e-05\n",
      "  -3.31269725e-03 -2.01563061e+00]\n",
      " [-1.79307497e+00  2.07398367e+00 -1.94139066e+00 ...  3.93002498e-03\n",
      "   5.16822384e-04  5.31774920e-01]]\n"
     ]
    }
   ],
   "source": [
    "# normalize dataset used for testing \n",
    "#scalerTest = StandardScaler()\n",
    "print(scaler.fit(climate_test)) #z score sclaing \n",
    "\n",
    "#print(scalerTest.mean_) # mean of each column\n",
    "print(scaler.transform(climate_test))\n",
    "trans_climate_test = scaler.transform(climate_test)"
   ]
  },
  {
   "cell_type": "code",
   "execution_count": 20,
   "metadata": {},
   "outputs": [
    {
     "data": {
      "text/plain": [
       "(17447, 336)"
      ]
     },
     "execution_count": 20,
     "metadata": {},
     "output_type": "execute_result"
    }
   ],
   "source": [
    "trans_climate_test.shape"
   ]
  },
  {
   "cell_type": "markdown",
   "metadata": {},
   "source": []
  },
  {
   "cell_type": "markdown",
   "metadata": {},
   "source": [
    "Now that we have normalized both our training and test sets we need to set up the training data set \n",
    "into time series data format \n",
    "prepare the training data to be Keras RNN/-ready.  Our forecasting scheme is to look back 24 hours (e.g. h1 through h24) and predict the next hour (h25).  And we use all 14 climate measurements of the previous 24 hours to predict the temperature (only) of the 24th hour (thus just one feature)"
   ]
  },
  {
   "cell_type": "code",
   "execution_count": 21,
   "metadata": {},
   "outputs": [],
   "source": [
    "# Create time series data for training\n",
    "#With this function we will be able to shape our train set to become keras ready \n",
    "\n",
    "# convert series to supervised learning\n",
    "def setup(data, n_in=1, n_out=1, dropnan=True):\n",
    "    n_vars = 1 if type(data) is list else data.shape[1]\n",
    "    df = pd.DataFrame(data)\n",
    "    cols, names = list(), list()\n",
    "    # input sequence (t-n, ... t-1)\n",
    "    for i in range(n_in, 0, -1):\n",
    "        cols.append(df.shift(i))\n",
    "        names += [('var%d(t-%d)' % (j+1, i)) for j in range(n_vars)]\n",
    "    # forecast sequence (t, t+1, ... t+n)\n",
    "    for i in range(0, n_out):\n",
    "        cols.append(df.shift(-i))\n",
    "        if i == 0:\n",
    "            names += [('var%d(t)' % (j+1)) for j in range(n_vars)]\n",
    "        else:\n",
    "            names += [('var%d(t+%d)' % (j+1, i)) for j in range(n_vars)]\n",
    "    # put it all together\n",
    "    agg = pd.concat(cols, axis=1)\n",
    "    agg.columns = names\n",
    "    # drop rows with NaN values\n",
    "    #if dropnan:\n",
    "      #  agg.dropna(inplace=True)\n",
    "    return agg\n"
   ]
  },
  {
   "cell_type": "code",
   "execution_count": 22,
   "metadata": {},
   "outputs": [],
   "source": [
    "values = trans_climate_train"
   ]
  },
  {
   "cell_type": "code",
   "execution_count": 23,
   "metadata": {},
   "outputs": [],
   "source": [
    "values.view() #view our arrary \n",
    "\n",
    "values = values.astype('float32') #convert values in float 32"
   ]
  },
  {
   "cell_type": "markdown",
   "metadata": {},
   "source": [
    "-Since we have 24 hours to predict our window size will be 24\n",
    "\n",
    "-Our features that we are going to include will be 14. Set those into variables to use for pre procesing and re formatting later"
   ]
  },
  {
   "cell_type": "code",
   "execution_count": 24,
   "metadata": {},
   "outputs": [],
   "source": [
    "# specify the number of  hours\n",
    "n_hours = 24\n",
    "n_features = 14 #We have 14 features that need to be included \n",
    "# frame as supervised learning\n",
    "reframed = setup(values, n_hours, 1) #run the function to convert our training set to be keras ready "
   ]
  },
  {
   "cell_type": "code",
   "execution_count": 25,
   "metadata": {},
   "outputs": [
    {
     "data": {
      "text/plain": [
       "(52566, 350)"
      ]
     },
     "execution_count": 25,
     "metadata": {},
     "output_type": "execute_result"
    }
   ],
   "source": [
    "reframed.shape"
   ]
  },
  {
   "cell_type": "code",
   "execution_count": 26,
   "metadata": {},
   "outputs": [
    {
     "data": {
      "text/plain": [
       "(52542, 350)"
      ]
     },
     "execution_count": 26,
     "metadata": {},
     "output_type": "execute_result"
    }
   ],
   "source": [
    "reframed.dropna(axis=0, inplace=True) #drop any n/a in the model \n",
    "reframed.shape #check shape"
   ]
  },
  {
   "cell_type": "code",
   "execution_count": 27,
   "metadata": {},
   "outputs": [
    {
     "name": "stdout",
     "output_type": "stream",
     "text": [
      "(52542, 336) 52542 (52542,)\n"
     ]
    }
   ],
   "source": [
    "values = reframed.values\n",
    "n_train_hours = 52542\n",
    "train = values[:n_train_hours, :]\n",
    "\n",
    "# split into input and outputs\n",
    "n_obs = n_hours * n_features # Get proper number of observations \n",
    "train_X, train_y = train[:, :n_obs], train[:, -n_features] #create train x and y \n",
    "test_X = trans_climate_test[:, :n_obs] #set up prediction fi\n",
    "print(train_X.shape, len(train_X), train_y.shape)"
   ]
  },
  {
   "cell_type": "code",
   "execution_count": 28,
   "metadata": {},
   "outputs": [
    {
     "name": "stdout",
     "output_type": "stream",
     "text": [
      "(17447, 336) 17447\n"
     ]
    }
   ],
   "source": [
    "print(test_X.shape, len(test_X))\n",
    "#check shape"
   ]
  },
  {
   "cell_type": "code",
   "execution_count": 29,
   "metadata": {},
   "outputs": [
    {
     "name": "stdout",
     "output_type": "stream",
     "text": [
      "(52542, 24, 14) (52542,) (17447, 24, 14)\n"
     ]
    }
   ],
   "source": [
    "train_X = train_X.reshape((train_X.shape[0], n_hours, n_features)) #set up 3D for LTSM model\n",
    "test_X = test_X.reshape((test_X.shape[0], n_hours, n_features))\n",
    "print(train_X.shape, train_y.shape, test_X.shape) #check shapes and verify that its 3D"
   ]
  },
  {
   "cell_type": "markdown",
   "metadata": {},
   "source": [
    "Model Building: \n",
    "Now we are going to Build our LTSM Neural Network "
   ]
  },
  {
   "cell_type": "code",
   "execution_count": 141,
   "metadata": {},
   "outputs": [
    {
     "name": "stdout",
     "output_type": "stream",
     "text": [
      "_________________________________________________________________\n",
      "Layer (type)                 Output Shape              Param #   \n",
      "=================================================================\n",
      "lstm_13 (LSTM)               (None, 24, 300)           378000    \n",
      "_________________________________________________________________\n",
      "lstm_14 (LSTM)               (None, 64)                93440     \n",
      "_________________________________________________________________\n",
      "dropout_6 (Dropout)          (None, 64)                0         \n",
      "_________________________________________________________________\n",
      "dense_3 (Dense)              (None, 1)                 65        \n",
      "_________________________________________________________________\n",
      "activation_3 (Activation)    (None, 1)                 0         \n",
      "=================================================================\n",
      "Total params: 471,505\n",
      "Trainable params: 471,505\n",
      "Non-trainable params: 0\n",
      "_________________________________________________________________\n"
     ]
    }
   ],
   "source": [
    "# Define the LSTM model\n",
    "model = Sequential()\n",
    "model.add(LSTM(300,input_shape =(train_X.shape[1],train_X.shape[2]),return_sequences = True))\n",
    "model.add(LSTM(64)) #add on addtioanl 64 nodes \n",
    "model.add(Dropout(0.25)) #add drop out layer\n",
    "model.add(Dense(1))\n",
    "model.add(Activation(\"linear\"))\n",
    "model.compile(loss=\"mae\", optimizer=\"adam\") #USE MAE as instructed \n",
    "model.summary()\n",
    "#not great kaggle score using this model, obtain 1.22, lets try a simpler model \n",
    "#drop out and addtional layers, did not provide optimal scores. \n",
    "# Model seems to float around .08 error rate when ran.\n"
   ]
  },
  {
   "cell_type": "code",
   "execution_count": 32,
   "metadata": {},
   "outputs": [
    {
     "name": "stdout",
     "output_type": "stream",
     "text": [
      "_________________________________________________________________\n",
      "Layer (type)                 Output Shape              Param #   \n",
      "=================================================================\n",
      "lstm_1 (LSTM)                (None, 230)               225400    \n",
      "_________________________________________________________________\n",
      "dense_1 (Dense)              (None, 1)                 231       \n",
      "=================================================================\n",
      "Total params: 225,631\n",
      "Trainable params: 225,631\n",
      "Non-trainable params: 0\n",
      "_________________________________________________________________\n"
     ]
    }
   ],
   "source": [
    "# Define the LSTM model\n",
    "#2nd Model less layers, more nodes simple model \n",
    "model = Sequential()\n",
    "model.add(LSTM(230,input_shape =(train_X.shape[1],train_X.shape[2])))\n",
    "model.add(Dense(1))\n",
    "model.compile(loss=\"mae\", optimizer=\"adam\")\n",
    "model.summary()\n",
    "#first model had 31 nodes tried 50\n",
    "#second model had 240 nodes tried, 50, 100\n",
    "#3rd model will have 300 nodes tried, 50, 100 and 75 epochs\n",
    "#4th model go to 250 nodes, and try 60 epochs\n",
    "#5th Attempt will have 230 nodes, do 60 epochs "
   ]
  },
  {
   "cell_type": "code",
   "execution_count": 33,
   "metadata": {},
   "outputs": [
    {
     "name": "stdout",
     "output_type": "stream",
     "text": [
      "Epoch 1/60\n",
      "52542/52542 [==============================] - 15s 281us/step - loss: 0.1660\n",
      "Epoch 2/60\n",
      "52542/52542 [==============================] - 13s 245us/step - loss: 0.0792\n",
      "Epoch 3/60\n",
      "52542/52542 [==============================] - 13s 243us/step - loss: 0.0671\n",
      "Epoch 4/60\n",
      "52542/52542 [==============================] - 13s 243us/step - loss: 0.0621\n",
      "Epoch 5/60\n",
      "52542/52542 [==============================] - 13s 241us/step - loss: 0.0645\n",
      "Epoch 6/60\n",
      "52542/52542 [==============================] - 13s 246us/step - loss: 0.0634\n",
      "Epoch 7/60\n",
      "52542/52542 [==============================] - 13s 246us/step - loss: 0.0648\n",
      "Epoch 8/60\n",
      "52542/52542 [==============================] - 13s 243us/step - loss: 0.0652\n",
      "Epoch 9/60\n",
      "52542/52542 [==============================] - 13s 250us/step - loss: 0.0592\n",
      "Epoch 10/60\n",
      "52542/52542 [==============================] - 13s 244us/step - loss: 0.0600\n",
      "Epoch 11/60\n",
      "52542/52542 [==============================] - 13s 248us/step - loss: 0.0621\n",
      "Epoch 12/60\n",
      "52542/52542 [==============================] - 13s 246us/step - loss: 0.0618\n",
      "Epoch 13/60\n",
      "52542/52542 [==============================] - 13s 239us/step - loss: 0.0616\n",
      "Epoch 14/60\n",
      "52542/52542 [==============================] - 13s 241us/step - loss: 0.0640\n",
      "Epoch 15/60\n",
      "52542/52542 [==============================] - 13s 239us/step - loss: 0.0621\n",
      "Epoch 16/60\n",
      "52542/52542 [==============================] - 13s 246us/step - loss: 0.0632\n",
      "Epoch 17/60\n",
      "52542/52542 [==============================] - 13s 244us/step - loss: 0.0619\n",
      "Epoch 18/60\n",
      "52542/52542 [==============================] - 12s 237us/step - loss: 0.0641\n",
      "Epoch 19/60\n",
      "52542/52542 [==============================] - 13s 247us/step - loss: 0.0623\n",
      "Epoch 20/60\n",
      "52542/52542 [==============================] - 13s 250us/step - loss: 0.0620\n",
      "Epoch 21/60\n",
      "52542/52542 [==============================] - 13s 248us/step - loss: 0.0637\n",
      "Epoch 22/60\n",
      "52542/52542 [==============================] - 13s 244us/step - loss: 0.0641\n",
      "Epoch 23/60\n",
      "52542/52542 [==============================] - 13s 249us/step - loss: 0.0636\n",
      "Epoch 24/60\n",
      "52542/52542 [==============================] - 13s 247us/step - loss: 0.0618\n",
      "Epoch 25/60\n",
      "52542/52542 [==============================] - 13s 244us/step - loss: 0.0617\n",
      "Epoch 26/60\n",
      "52542/52542 [==============================] - 13s 246us/step - loss: 0.0595\n",
      "Epoch 27/60\n",
      "52542/52542 [==============================] - 13s 251us/step - loss: 0.0599\n",
      "Epoch 28/60\n",
      "52542/52542 [==============================] - 13s 251us/step - loss: 0.0606\n",
      "Epoch 29/60\n",
      "52542/52542 [==============================] - 13s 250us/step - loss: 0.0590\n",
      "Epoch 30/60\n",
      "52542/52542 [==============================] - 13s 248us/step - loss: 0.0581\n",
      "Epoch 31/60\n",
      "52542/52542 [==============================] - 13s 253us/step - loss: 0.0599\n",
      "Epoch 32/60\n",
      "52542/52542 [==============================] - 13s 246us/step - loss: 0.0601\n",
      "Epoch 33/60\n",
      "52542/52542 [==============================] - 13s 243us/step - loss: 0.0597\n",
      "Epoch 34/60\n",
      "52542/52542 [==============================] - 13s 246us/step - loss: 0.0589\n",
      "Epoch 35/60\n",
      "52542/52542 [==============================] - 13s 244us/step - loss: 0.0587\n",
      "Epoch 36/60\n",
      "52542/52542 [==============================] - 13s 242us/step - loss: 0.0573\n",
      "Epoch 37/60\n",
      "52542/52542 [==============================] - 13s 251us/step - loss: 0.0572\n",
      "Epoch 38/60\n",
      "52542/52542 [==============================] - 13s 249us/step - loss: 0.0563\n",
      "Epoch 39/60\n",
      "52542/52542 [==============================] - 12s 237us/step - loss: 0.0565\n",
      "Epoch 40/60\n",
      "52542/52542 [==============================] - 13s 242us/step - loss: 0.0561\n",
      "Epoch 41/60\n",
      "52542/52542 [==============================] - 13s 244us/step - loss: 0.0570\n",
      "Epoch 42/60\n",
      "52542/52542 [==============================] - 13s 242us/step - loss: 0.0565\n",
      "Epoch 43/60\n",
      "52542/52542 [==============================] - 13s 247us/step - loss: 0.0554\n",
      "Epoch 44/60\n",
      "52542/52542 [==============================] - 13s 250us/step - loss: 0.0566\n",
      "Epoch 45/60\n",
      "52542/52542 [==============================] - 13s 254us/step - loss: 0.0557\n",
      "Epoch 46/60\n",
      "52542/52542 [==============================] - 13s 251us/step - loss: 0.0562\n",
      "Epoch 47/60\n",
      "52542/52542 [==============================] - 13s 247us/step - loss: 0.0558\n",
      "Epoch 48/60\n",
      "52542/52542 [==============================] - 13s 249us/step - loss: 0.0545\n",
      "Epoch 49/60\n",
      "52542/52542 [==============================] - 13s 253us/step - loss: 0.0555\n",
      "Epoch 50/60\n",
      "52542/52542 [==============================] - 14s 260us/step - loss: 0.0577\n",
      "Epoch 51/60\n",
      "52542/52542 [==============================] - 13s 249us/step - loss: 0.0555\n",
      "Epoch 52/60\n",
      "52542/52542 [==============================] - 13s 245us/step - loss: 0.0551\n",
      "Epoch 53/60\n",
      "52542/52542 [==============================] - 13s 246us/step - loss: 0.0541\n",
      "Epoch 54/60\n",
      "52542/52542 [==============================] - 13s 246us/step - loss: 0.0543\n",
      "Epoch 55/60\n",
      "52542/52542 [==============================] - 13s 246us/step - loss: 0.0564\n",
      "Epoch 56/60\n",
      "52542/52542 [==============================] - 13s 247us/step - loss: 0.0543\n",
      "Epoch 57/60\n",
      "52542/52542 [==============================] - 13s 244us/step - loss: 0.0536\n",
      "Epoch 58/60\n",
      "52542/52542 [==============================] - 13s 250us/step - loss: 0.0561\n",
      "Epoch 59/60\n",
      "52542/52542 [==============================] - 13s 250us/step - loss: 0.0552\n",
      "Epoch 60/60\n",
      "52542/52542 [==============================] - 13s 251us/step - loss: 0.0537\n",
      "> Compilation Time :  779.7569222450256\n"
     ]
    }
   ],
   "source": [
    "# fit model & track run time\n",
    "start = time.time() \n",
    "history = model.fit(train_X,train_y,batch_size=240,epochs=60,shuffle=False) #turn shuffle off so that we dont mess with date settings \n",
    "print(\"> Compilation Time : \", time.time() - start) #Gather time it took to complete the model \n"
   ]
  },
  {
   "cell_type": "code",
   "execution_count": 143,
   "metadata": {},
   "outputs": [
    {
     "data": {
      "image/png": "[encoded data removed]",
      "text/plain": [
       "<Figure size 432x288 with 1 Axes>"
      ]
     },
     "metadata": {},
     "output_type": "display_data"
    }
   ],
   "source": [
    "# plot history of training set of model with 300 nodes and 50 epochs , batch size 240 \n",
    "# seems that around 65-75 epochs would of been best, after 80 model was jumping around with loss score \n",
    "pyplot.plot(history.history['loss'], label='train')\n",
    "#This model scored .90 on Kaggle \n",
    "pyplot.legend()\n",
    "pyplot.show()"
   ]
  },
  {
   "cell_type": "code",
   "execution_count": 157,
   "metadata": {},
   "outputs": [
    {
     "data": {
      "image/png": "[encoded data removed]",
      "text/plain": [
       "<Figure size 432x288 with 1 Axes>"
      ]
     },
     "metadata": {},
     "output_type": "display_data"
    }
   ],
   "source": [
    "# plot history of training set of model with 300 nodes and 100 epochs , batch size 240 \n",
    "# seems that around 65-75 epochs would of been best, after 80 model was jumping around with loss score \n",
    "#This model scored .90 on Kaggle \n",
    "pyplot.plot(history.history['loss'], label='train')\n",
    "pyplot.legend()\n",
    "pyplot.show()\n",
    "#this model scored. 56!! on kaggle "
   ]
  },
  {
   "cell_type": "code",
   "execution_count": 34,
   "metadata": {},
   "outputs": [
    {
     "data": {
      "image/png": "[encoded data removed]",
      "text/plain": [
       "<Figure size 432x288 with 1 Axes>"
      ]
     },
     "metadata": {},
     "output_type": "display_data"
    }
   ],
   "source": [
    "# plot history of training set of model with 300 nodes and 100 epochs , batch size 240 \n",
    "# seems that around 65-75 epochs would of been best, after 80 model was jumping around with loss score \n",
    "#This model scored .90 on Kaggle \n",
    "pyplot.plot(history.history['loss'], label='train')\n",
    "pyplot.legend()\n",
    "pyplot.show()\n",
    "#this model scored. 52!! on kaggle "
   ]
  },
  {
   "cell_type": "markdown",
   "metadata": {},
   "source": [
    "What does the chart tell us? \n",
    "- With a simpler LTSM model we were able to obtain our best score. \n",
    "- We see above that the training test set, was able to learn quickly \n",
    "- With a simpler model, we are able to start off with a loss of .16 compared to a more complex model starting at .24 \n",
    "   - Also with a simpler model, we are able to obtain a loss of <.06 compared to our more complex model than converged around .08\n"
   ]
  },
  {
   "cell_type": "markdown",
   "metadata": {},
   "source": [
    "Predictions/ Output Predictions file:"
   ]
  },
  {
   "cell_type": "code",
   "execution_count": 35,
   "metadata": {},
   "outputs": [],
   "source": [
    "# make a forecast predication\n",
    "predictions = model.predict(test_X)#, batch_size=1)"
   ]
  },
  {
   "cell_type": "code",
   "execution_count": 36,
   "metadata": {},
   "outputs": [],
   "source": [
    "test_X = test_X.reshape((test_X.shape[0], n_hours*n_features))"
   ]
  },
  {
   "cell_type": "code",
   "execution_count": 162,
   "metadata": {},
   "outputs": [
    {
     "data": {
      "text/plain": [
       "(17447, 1)"
      ]
     },
     "execution_count": 162,
     "metadata": {},
     "output_type": "execute_result"
    }
   ],
   "source": [
    "predictions.shape #check the shape of our input file to kaggle "
   ]
  },
  {
   "cell_type": "code",
   "execution_count": 147,
   "metadata": {},
   "outputs": [
    {
     "data": {
      "text/plain": [
       "(17447, 336)"
      ]
     },
     "execution_count": 147,
     "metadata": {},
     "output_type": "execute_result"
    }
   ],
   "source": [
    "test_X.shape\n"
   ]
  },
  {
   "cell_type": "code",
   "execution_count": 31,
   "metadata": {},
   "outputs": [
    {
     "data": {
      "text/plain": [
       "(52566, 14)"
      ]
     },
     "execution_count": 31,
     "metadata": {},
     "output_type": "execute_result"
    }
   ],
   "source": [
    "trans_climate_train.shape"
   ]
  },
  {
   "cell_type": "code",
   "execution_count": 37,
   "metadata": {},
   "outputs": [],
   "source": [
    "#invert scaling for predictions file \n",
    "\n",
    "trans_preds = np.concatenate((predictions, test_X[:, -13:]), axis=1)\n",
    "#trans_preds = scaler.inverse_transform(trans_preds)\n",
    "trans_preds = trans_preds[:,0]"
   ]
  },
  {
   "cell_type": "code",
   "execution_count": 38,
   "metadata": {},
   "outputs": [
    {
     "data": {
      "text/plain": [
       "array([-1.08740473, -1.03363407, -1.05297971, ..., -1.75666046,\n",
       "       -1.64641893, -1.81283164])"
      ]
     },
     "execution_count": 38,
     "metadata": {},
     "output_type": "execute_result"
    }
   ],
   "source": [
    "trans_preds"
   ]
  },
  {
   "cell_type": "code",
   "execution_count": 39,
   "metadata": {},
   "outputs": [
    {
     "data": {
      "text/plain": [
       "17447"
      ]
     },
     "execution_count": 39,
     "metadata": {},
     "output_type": "execute_result"
    }
   ],
   "source": [
    "trans_preds.shape[0]\n",
    "#lengh = trans_preds.shape[0]\n",
    "#print(lengh)\n",
    "\n",
    "#trans_preds[0]"
   ]
  },
  {
   "cell_type": "code",
   "execution_count": 40,
   "metadata": {},
   "outputs": [
    {
     "data": {
      "text/plain": [
       "array([ 1.53594054,  1.96687583,  1.81183367, ..., -3.82768907,\n",
       "       -2.94417815, -4.27786287])"
      ]
     },
     "execution_count": 40,
     "metadata": {},
     "output_type": "execute_result"
    }
   ],
   "source": [
    "for x in range(trans_preds.shape[0]):\n",
    "    trans_preds[x] = ((trans_preds[x] * 8.01432) + 10.25075) #do manual scaling to reverse temp per professors guidelines\n",
    "    \n",
    "trans_preds   "
   ]
  },
  {
   "cell_type": "code",
   "execution_count": 41,
   "metadata": {},
   "outputs": [
    {
     "data": {
      "text/plain": [
       "[<matplotlib.lines.Line2D at 0x3fff281a0978>]"
      ]
     },
     "execution_count": 41,
     "metadata": {},
     "output_type": "execute_result"
    },
    {
     "data": {
      "image/png": "[encoded data removed]",
      "text/plain": [
       "<Figure size 432x288 with 1 Axes>"
      ]
     },
     "metadata": {},
     "output_type": "display_data"
    }
   ],
   "source": [
    "pyplot.plot(trans_preds)"
   ]
  },
  {
   "cell_type": "markdown",
   "metadata": {},
   "source": [
    "What do we see with our prediction results? \n",
    " - We are seeing seasonal trends with out temp C, which indicates a good sign. The training data set went over a few years, while the prediction only went 2 years. So we should be seeing this trend here. "
   ]
  },
  {
   "cell_type": "markdown",
   "metadata": {},
   "source": [
    "Lets get the file ready to be submitted to Kaggle "
   ]
  },
  {
   "cell_type": "code",
   "execution_count": 42,
   "metadata": {},
   "outputs": [],
   "source": [
    "#Export PDF to predictions and submit to kaggle\n",
    "predictionsCSV = pd.read_csv('sample_submission_2019spring.csv', header=0, index_col=0)\n",
    "predictionsCSV['temperature']=trans_preds #Place our values for temp in prediction file \n",
    "predictionsCSV.to_csv('predictions.csv')\n",
    "\n",
    "\n",
    "#End of code "
   ]
  },
  {
   "cell_type": "markdown",
   "metadata": {},
   "source": []
  },
  {
   "cell_type": "code",
   "execution_count": null,
   "metadata": {},
   "outputs": [],
   "source": []
  }
 ],
 "metadata": {
  "kernelspec": {
   "display_name": "Python 3",
   "language": "python",
   "name": "python3"
  },
  "language_info": {
   "codemirror_mode": {
    "name": "ipython",
    "version": 3
   },
   "file_extension": ".py",
   "mimetype": "text/x-python",
   "name": "python",
   "nbconvert_exporter": "python",
   "pygments_lexer": "ipython3",
   "version": "3.6.8"
  }
 },
 "nbformat": 4,
 "nbformat_minor": 2
}
